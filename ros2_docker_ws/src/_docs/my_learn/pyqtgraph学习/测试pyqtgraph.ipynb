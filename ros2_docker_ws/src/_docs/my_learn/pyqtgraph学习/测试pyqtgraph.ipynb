{
 "cells": [
  {
   "cell_type": "code",
   "execution_count": 7,
   "id": "ae7c11d7",
   "metadata": {},
   "outputs": [
    {
     "name": "stderr",
     "output_type": "stream",
     "text": [
      "qt.core.qobject.connect: QObject::connect(QStyleHints, QStyleHints): unique connections require a pointer to member function of a QObject subclass\n"
     ]
    },
    {
     "ename": "RuntimeError",
     "evalue": "Internal C++ object (ViewBox) already deleted.",
     "output_type": "error",
     "traceback": [
      "\u001b[31m---------------------------------------------------------------------------\u001b[39m",
      "\u001b[31mRuntimeError\u001b[39m                              Traceback (most recent call last)",
      "\u001b[36mCell\u001b[39m\u001b[36m \u001b[39m\u001b[32mIn[7]\u001b[39m\u001b[32m, line 14\u001b[39m\n\u001b[32m     12\u001b[39m win = QtWidgets.QMainWindow()\n\u001b[32m     13\u001b[39m win.resize(\u001b[32m800\u001b[39m,\u001b[32m800\u001b[39m)\n\u001b[32m---> \u001b[39m\u001b[32m14\u001b[39m imv = \u001b[43mpg\u001b[49m\u001b[43m.\u001b[49m\u001b[43mImageView\u001b[49m\u001b[43m(\u001b[49m\u001b[43mdiscreteTimeLine\u001b[49m\u001b[43m=\u001b[49m\u001b[38;5;28;43;01mTrue\u001b[39;49;00m\u001b[43m,\u001b[49m\u001b[43m \u001b[49m\u001b[43mlevelMode\u001b[49m\u001b[43m=\u001b[49m\u001b[33;43m'\u001b[39;49m\u001b[33;43mrgba\u001b[39;49m\u001b[33;43m'\u001b[39;49m\u001b[43m)\u001b[49m\n\u001b[32m     15\u001b[39m win.setCentralWidget(imv)\n\u001b[32m     16\u001b[39m win.show()\n",
      "\u001b[36mFile \u001b[39m\u001b[32m/usr/local/lib/python3.12/dist-packages/pyqtgraph/imageview/ImageView.py:136\u001b[39m, in \u001b[36mImageView.__init__\u001b[39m\u001b[34m(self, parent, name, view, imageItem, levelMode, discreteTimeLine, roi, normRoi, *args)\u001b[39m\n\u001b[32m    134\u001b[39m \u001b[38;5;28mself\u001b[39m.imageDisp = \u001b[38;5;28;01mNone\u001b[39;00m\n\u001b[32m    135\u001b[39m \u001b[38;5;28mself\u001b[39m.ui = ui_template.Ui_Form()\n\u001b[32m--> \u001b[39m\u001b[32m136\u001b[39m \u001b[38;5;28;43mself\u001b[39;49m\u001b[43m.\u001b[49m\u001b[43mui\u001b[49m\u001b[43m.\u001b[49m\u001b[43msetupUi\u001b[49m\u001b[43m(\u001b[49m\u001b[38;5;28;43mself\u001b[39;49m\u001b[43m)\u001b[49m\n\u001b[32m    137\u001b[39m \u001b[38;5;28mself\u001b[39m.scene = \u001b[38;5;28mself\u001b[39m.ui.graphicsView.scene()\n\u001b[32m    138\u001b[39m \u001b[38;5;28mself\u001b[39m.discreteTimeLine = discreteTimeLine\n",
      "\u001b[36mFile \u001b[39m\u001b[32m/usr/local/lib/python3.12/dist-packages/pyqtgraph/imageview/ImageViewTemplate_generic.py:32\u001b[39m, in \u001b[36mUi_Form.setupUi\u001b[39m\u001b[34m(self, Form)\u001b[39m\n\u001b[32m     30\u001b[39m \u001b[38;5;28mself\u001b[39m.graphicsView.setObjectName(\u001b[33m\"\u001b[39m\u001b[33mgraphicsView\u001b[39m\u001b[33m\"\u001b[39m)\n\u001b[32m     31\u001b[39m \u001b[38;5;28mself\u001b[39m.gridLayout.addWidget(\u001b[38;5;28mself\u001b[39m.graphicsView, \u001b[32m0\u001b[39m, \u001b[32m0\u001b[39m, \u001b[32m2\u001b[39m, \u001b[32m1\u001b[39m)\n\u001b[32m---> \u001b[39m\u001b[32m32\u001b[39m \u001b[38;5;28mself\u001b[39m.histogram = \u001b[43mHistogramLUTWidget\u001b[49m\u001b[43m(\u001b[49m\u001b[38;5;28;43mself\u001b[39;49m\u001b[43m.\u001b[49m\u001b[43mlayoutWidget\u001b[49m\u001b[43m)\u001b[49m\n\u001b[32m     33\u001b[39m \u001b[38;5;28mself\u001b[39m.histogram.setObjectName(\u001b[33m\"\u001b[39m\u001b[33mhistogram\u001b[39m\u001b[33m\"\u001b[39m)\n\u001b[32m     34\u001b[39m \u001b[38;5;28mself\u001b[39m.gridLayout.addWidget(\u001b[38;5;28mself\u001b[39m.histogram, \u001b[32m0\u001b[39m, \u001b[32m1\u001b[39m, \u001b[32m1\u001b[39m, \u001b[32m2\u001b[39m)\n",
      "\u001b[36mFile \u001b[39m\u001b[32m/usr/local/lib/python3.12/dist-packages/pyqtgraph/widgets/HistogramLUTWidget.py:22\u001b[39m, in \u001b[36mHistogramLUTWidget.__init__\u001b[39m\u001b[34m(self, parent, *args, **kargs)\u001b[39m\n\u001b[32m     20\u001b[39m background = kargs.pop(\u001b[33m'\u001b[39m\u001b[33mbackground\u001b[39m\u001b[33m'\u001b[39m, \u001b[33m'\u001b[39m\u001b[33mdefault\u001b[39m\u001b[33m'\u001b[39m)\n\u001b[32m     21\u001b[39m GraphicsView.\u001b[34m__init__\u001b[39m(\u001b[38;5;28mself\u001b[39m, parent, useOpenGL=\u001b[38;5;28;01mFalse\u001b[39;00m, background=background)\n\u001b[32m---> \u001b[39m\u001b[32m22\u001b[39m \u001b[38;5;28mself\u001b[39m.item = \u001b[43mHistogramLUTItem\u001b[49m\u001b[43m(\u001b[49m\u001b[43m*\u001b[49m\u001b[43margs\u001b[49m\u001b[43m,\u001b[49m\u001b[43m \u001b[49m\u001b[43m*\u001b[49m\u001b[43m*\u001b[49m\u001b[43mkargs\u001b[49m\u001b[43m)\u001b[49m\n\u001b[32m     23\u001b[39m \u001b[38;5;28mself\u001b[39m.setCentralItem(\u001b[38;5;28mself\u001b[39m.item)\n\u001b[32m     25\u001b[39m \u001b[38;5;28mself\u001b[39m.orientation = kargs.get(\u001b[33m'\u001b[39m\u001b[33morientation\u001b[39m\u001b[33m'\u001b[39m, \u001b[33m'\u001b[39m\u001b[33mvertical\u001b[39m\u001b[33m'\u001b[39m)\n",
      "\u001b[36mFile \u001b[39m\u001b[32m/usr/local/lib/python3.12/dist-packages/pyqtgraph/graphicsItems/HistogramLUTItem.py:107\u001b[39m, in \u001b[36mHistogramLUTItem.__init__\u001b[39m\u001b[34m(self, image, fillHistogram, levelMode, gradientPosition, orientation)\u001b[39m\n\u001b[32m    104\u001b[39m \u001b[38;5;28mself\u001b[39m.layout.setContentsMargins(\u001b[32m1\u001b[39m, \u001b[32m1\u001b[39m, \u001b[32m1\u001b[39m, \u001b[32m1\u001b[39m)\n\u001b[32m    105\u001b[39m \u001b[38;5;28mself\u001b[39m.layout.setSpacing(\u001b[32m0\u001b[39m)\n\u001b[32m--> \u001b[39m\u001b[32m107\u001b[39m \u001b[38;5;28mself\u001b[39m.vb = \u001b[43mViewBox\u001b[49m\u001b[43m(\u001b[49m\u001b[43mparent\u001b[49m\u001b[43m=\u001b[49m\u001b[38;5;28;43mself\u001b[39;49m\u001b[43m)\u001b[49m\n\u001b[32m    108\u001b[39m \u001b[38;5;28;01mif\u001b[39;00m \u001b[38;5;28mself\u001b[39m.orientation == \u001b[33m'\u001b[39m\u001b[33mvertical\u001b[39m\u001b[33m'\u001b[39m:\n\u001b[32m    109\u001b[39m     \u001b[38;5;28mself\u001b[39m.vb.setMaximumWidth(\u001b[32m152\u001b[39m)\n",
      "\u001b[36mFile \u001b[39m\u001b[32m/usr/local/lib/python3.12/dist-packages/pyqtgraph/graphicsItems/ViewBox/ViewBox.py:230\u001b[39m, in \u001b[36mViewBox.__init__\u001b[39m\u001b[34m(self, parent, border, lockAspect, enableMouse, invertY, enableMenu, name, invertX, defaultPadding)\u001b[39m\n\u001b[32m    228\u001b[39m \u001b[38;5;28mself\u001b[39m.register(name)\n\u001b[32m    229\u001b[39m \u001b[38;5;28;01mif\u001b[39;00m name \u001b[38;5;129;01mis\u001b[39;00m \u001b[38;5;28;01mNone\u001b[39;00m:\n\u001b[32m--> \u001b[39m\u001b[32m230\u001b[39m     \u001b[38;5;28;43mself\u001b[39;49m\u001b[43m.\u001b[49m\u001b[43mupdateViewLists\u001b[49m\u001b[43m(\u001b[49m\u001b[43m)\u001b[49m\n\u001b[32m    232\u001b[39m \u001b[38;5;28mself\u001b[39m._viewPixelSizeCache  = \u001b[38;5;28;01mNone\u001b[39;00m\n",
      "\u001b[36mFile \u001b[39m\u001b[32m/usr/local/lib/python3.12/dist-packages/pyqtgraph/graphicsItems/ViewBox/ViewBox.py:1746\u001b[39m, in \u001b[36mViewBox.updateViewLists\u001b[39m\u001b[34m(self)\u001b[39m\n\u001b[32m   1743\u001b[39m     \u001b[38;5;28;01mreturn\u001b[39;00m (view.window() \u001b[38;5;129;01mis\u001b[39;00m \u001b[38;5;28mself\u001b[39m.window(), view.name)\n\u001b[32m   1745\u001b[39m \u001b[38;5;66;03m## make a sorted list of all named views\u001b[39;00m\n\u001b[32m-> \u001b[39m\u001b[32m1746\u001b[39m nv = \u001b[38;5;28;43msorted\u001b[39;49m\u001b[43m(\u001b[49m\u001b[43mViewBox\u001b[49m\u001b[43m.\u001b[49m\u001b[43mNamedViews\u001b[49m\u001b[43m.\u001b[49m\u001b[43mvalues\u001b[49m\u001b[43m(\u001b[49m\u001b[43m)\u001b[49m\u001b[43m,\u001b[49m\u001b[43m \u001b[49m\u001b[43mkey\u001b[49m\u001b[43m=\u001b[49m\u001b[43mview_key\u001b[49m\u001b[43m)\u001b[49m\n\u001b[32m   1748\u001b[39m \u001b[38;5;28;01mif\u001b[39;00m \u001b[38;5;28mself\u001b[39m \u001b[38;5;129;01min\u001b[39;00m nv:\n\u001b[32m   1749\u001b[39m     nv.remove(\u001b[38;5;28mself\u001b[39m)\n",
      "\u001b[36mFile \u001b[39m\u001b[32m/usr/local/lib/python3.12/dist-packages/pyqtgraph/graphicsItems/ViewBox/ViewBox.py:1743\u001b[39m, in \u001b[36mViewBox.updateViewLists.<locals>.view_key\u001b[39m\u001b[34m(view)\u001b[39m\n\u001b[32m   1742\u001b[39m \u001b[38;5;28;01mdef\u001b[39;00m\u001b[38;5;250m \u001b[39m\u001b[34mview_key\u001b[39m(view):\n\u001b[32m-> \u001b[39m\u001b[32m1743\u001b[39m     \u001b[38;5;28;01mreturn\u001b[39;00m (\u001b[43mview\u001b[49m\u001b[43m.\u001b[49m\u001b[43mwindow\u001b[49m\u001b[43m(\u001b[49m\u001b[43m)\u001b[49m \u001b[38;5;129;01mis\u001b[39;00m \u001b[38;5;28mself\u001b[39m.window(), view.name)\n",
      "\u001b[31mRuntimeError\u001b[39m: Internal C++ object (ViewBox) already deleted."
     ]
    }
   ],
   "source": [
    "\n",
    "import numpy as np\n",
    "\n",
    "import pyqtgraph as pg\n",
    "from pyqtgraph.Qt import QtWidgets\n",
    "\n",
    "# Interpret image data as row-major instead of col-major\n",
    "pg.setConfigOptions(imageAxisOrder='row-major')\n",
    "\n",
    "app = pg.mkQApp(\"ImageView Example\")\n",
    "\n",
    "## Create window with ImageView widget\n",
    "win = QtWidgets.QMainWindow()\n",
    "win.resize(800,800)\n",
    "imv = pg.ImageView(discreteTimeLine=True, levelMode='rgba')\n",
    "win.setCentralWidget(imv)\n",
    "win.show()\n",
    "win.setWindowTitle('pyqtgraph example: ImageView')\n",
    "imv.setHistogramLabel(\"Histogram label goes here\")\n",
    "\n",
    "## Create random 3D data set with time varying signals\n",
    "dataRed = np.ones((100, 200, 200)) * np.linspace(90, 150, 100)[:, np.newaxis, np.newaxis]\n",
    "dataRed += pg.gaussianFilter(np.random.normal(size=(200, 200)), (5, 5)) * 100\n",
    "dataGrn = np.ones((100, 200, 200)) * np.linspace(90, 180, 100)[:, np.newaxis, np.newaxis]\n",
    "dataGrn += pg.gaussianFilter(np.random.normal(size=(200, 200)), (5, 5)) * 100\n",
    "dataBlu = np.ones((100, 200, 200)) * np.linspace(180, 90, 100)[:, np.newaxis, np.newaxis]\n",
    "dataBlu += pg.gaussianFilter(np.random.normal(size=(200, 200)), (5, 5)) * 100\n",
    "\n",
    "data = np.concatenate(\n",
    "    (dataRed[:, :, :, np.newaxis], dataGrn[:, :, :, np.newaxis], dataBlu[:, :, :, np.newaxis]), axis=3\n",
    ")\n",
    "\n",
    "# 创建矩形ROI\n",
    "# roi = pg.RectROI([20, 20], [40, 40], pen='r')\n",
    "# imv.addItem(roi)\n",
    "\n",
    "roi_1 = pg.PolyLineROI([[20, 20], [40, 40], [50, 30], [20,10]], closed=True,pen='g')\n",
    "imv.addItem(roi_1)\n",
    "\n",
    "# imv.removeItem(roi_1)\n",
    "\n",
    "# Display the data and assign each frame a time value from 1.0 to 3.0\n",
    "imv.setImage(data, xvals=np.linspace(1., 3., data.shape[0]))\n",
    "imv.play(10)\n",
    "\n",
    "\n",
    "\n",
    "# Start up with an ROI\n",
    "imv.ui.roiBtn.setChecked(True)\n",
    "imv.roiClicked()\n",
    "\n",
    "pg.exec()"
   ]
  }
 ],
 "metadata": {
  "kernelspec": {
   "display_name": "Python 3",
   "language": "python",
   "name": "python3"
  },
  "language_info": {
   "codemirror_mode": {
    "name": "ipython",
    "version": 3
   },
   "file_extension": ".py",
   "mimetype": "text/x-python",
   "name": "python",
   "nbconvert_exporter": "python",
   "pygments_lexer": "ipython3",
   "version": "3.12.3"
  }
 },
 "nbformat": 4,
 "nbformat_minor": 5
}
